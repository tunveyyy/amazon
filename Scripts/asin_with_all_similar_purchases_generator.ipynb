{
 "cells": [
  {
   "cell_type": "code",
   "execution_count": 3,
   "metadata": {},
   "outputs": [],
   "source": [
    "file  = open(\"samplemeta.txt\", \"r\")\n",
    "similars = []\n",
    "asinlist = []\n",
    "count = 0\n",
    "for line in file:\n",
    "    label = line.partition(':')[0]\n",
    "    if(label == \"ASIN\"):\n",
    "        if(count == 0):\n",
    "            count = 1\n",
    "        else:\n",
    "            similars.append([])\n",
    "            count = 0\n",
    "        asin = line.partition(':')[2].strip()\n",
    "        asinlist.append(asin)\n",
    "        \n",
    "    if(label == \"  similar\"):\n",
    "        if(count == 1):\n",
    "            count = 0\n",
    "\n",
    "        similarlist = line.partition(':')[2]\n",
    "        similarlist = similarlist.partition('  ')[2]\n",
    "        similarlist = similarlist.split()\n",
    "        similars.append(similarlist)\n",
    "\n",
    "output_file = open('output1.tsv', 'wt')\n",
    "\n",
    "for i in range(len(asinlist)):\n",
    "    for item in similars[i]:\n",
    "        print(asinlist[i], end=\"\\t\", flush=True, file = output_file)\n",
    "        print(item, file = output_file)"
   ]
  },
  {
   "cell_type": "code",
   "execution_count": null,
   "metadata": {},
   "outputs": [],
   "source": []
  }
 ],
 "metadata": {
  "kernelspec": {
   "display_name": "Python 3",
   "language": "python",
   "name": "python3"
  },
  "language_info": {
   "codemirror_mode": {
    "name": "ipython",
    "version": 3
   },
   "file_extension": ".py",
   "mimetype": "text/x-python",
   "name": "python",
   "nbconvert_exporter": "python",
   "pygments_lexer": "ipython3",
   "version": "3.7.0"
  }
 },
 "nbformat": 4,
 "nbformat_minor": 2
}
