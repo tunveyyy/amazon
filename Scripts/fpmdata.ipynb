{
 "cells": [
  {
   "cell_type": "code",
   "execution_count": 10,
   "metadata": {},
   "outputs": [],
   "source": [
    "file  = open(\"samplemeta.txt\", \"r\")\n",
    "#similars = []\n",
    "asinlist = []\n",
    "idlist = []\n",
    "count = 0\n",
    "id = \"\"\n",
    "for line in file:\n",
    "    label = line.partition(':')[0]\n",
    "    \n",
    "    if(label == 'Id'):\n",
    "        id = line.partition(':')[2].strip()\n",
    "        idlist.append(id)\n",
    "    \n",
    "    if(label == \"ASIN\"):\n",
    "        if(count == 0):\n",
    "            count = 1\n",
    "        else:\n",
    "            similars.append([])\n",
    "            count = 0\n",
    "        asin = line.partition(':')[2].strip()\n",
    "        asinlist.append(asin)\n",
    "        \n",
    "    if(label == \"  similar\"):\n",
    "        if(count == 1):\n",
    "            count = 0\n",
    "\n",
    "        similarlist = line.partition(':')[2]\n",
    "        similarlist = similarlist.partition('  ')[2]\n",
    "        similarlist = similarlist.split()\n",
    "        #similars.append(similarlist)\n",
    "        asinlist = asinlist + similarlist\n",
    "        idlist = idlist+ [id]*len(similarlist)\n",
    "        \n",
    "        \n",
    "output_file = open('outputFpmData.csv', 'wt')\n",
    "\n",
    "for i in range(len(asinlist)):\n",
    "        print(idlist[i], end = \",\", file = output_file)\n",
    "        print(asinlist[i], flush=True, file = output_file)"
   ]
  },
  {
   "cell_type": "code",
   "execution_count": null,
   "metadata": {},
   "outputs": [],
   "source": []
  },
  {
   "cell_type": "code",
   "execution_count": null,
   "metadata": {},
   "outputs": [],
   "source": []
  }
 ],
 "metadata": {
  "kernelspec": {
   "display_name": "Python 3",
   "language": "python",
   "name": "python3"
  },
  "language_info": {
   "codemirror_mode": {
    "name": "ipython",
    "version": 3
   },
   "file_extension": ".py",
   "mimetype": "text/x-python",
   "name": "python",
   "nbconvert_exporter": "python",
   "pygments_lexer": "ipython3",
   "version": "3.7.0b1"
  }
 },
 "nbformat": 4,
 "nbformat_minor": 2
}
