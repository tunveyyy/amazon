{
 "cells": [
  {
   "cell_type": "code",
   "execution_count": 28,
   "metadata": {},
   "outputs": [],
   "source": [
    "def isNotBlank (myString):\n",
    "    if myString and myString.strip():\n",
    "        #myString is not None AND myString is not empty or blank\n",
    "        return True\n",
    "    #myString is None OR myString is empty or blank\n",
    "    return False"
   ]
  },
  {
   "cell_type": "code",
   "execution_count": 51,
   "metadata": {},
   "outputs": [],
   "source": [
    "file  = open(\"samplemeta.txt\", \"r\")\n",
    "output_file2 = open('output2.tsv', 'wt')\n",
    "output_file3 = open('output3.tsv', 'wt')\n",
    "\n",
    "asinlist = []\n",
    "titlelist = []\n",
    "grouplist = []\n",
    "\n",
    "count = 0\n",
    "\n",
    "for line in file:\n",
    "    label = line.partition(':')[0]\n",
    "    \n",
    "    if(label == \"ASIN\"):\n",
    "        if(count==1):\n",
    "            grouplist.append([])\n",
    "            titlelist.append([])\n",
    "        elif(count==2):\n",
    "            grouplist.append([])\n",
    "            \n",
    "        count = 1\n",
    "        asin = line.partition(':')[2].strip()\n",
    "        asinlist.append(asin)\n",
    "        \n",
    "    if(label == \"  title\"):\n",
    "        if(count==0):\n",
    "            count = 1\n",
    "            asinlist.append([])\n",
    "        elif(count==2):\n",
    "            asinlist.append([])\n",
    "            grouplist.append([])\n",
    "            \n",
    "        count = 2\n",
    "        title = line.partition(':')[2].rstrip()\n",
    "        title = title.lstrip()\n",
    "        titlelist.append(title)\n",
    "    \n",
    "    if(label == \"  group\"):\n",
    "        if(count==0):\n",
    "            asinlist.append([])\n",
    "            titlelist.append([])\n",
    "        elif(count==1):\n",
    "            titlelist.append([])\n",
    "        \n",
    "        count=0\n",
    "        group = line.partition(':')[2].strip()\n",
    "        grouplist.append(group)\n",
    "\n",
    "\n",
    "for i in range(len(asinlist)):\n",
    "    if(isNotBlank(asinlist[i]) and isNotBlank(titlelist[i]) and isNotBlank(grouplist[i])):\n",
    "        print(str(asinlist[i])+\"\\t\\\"\"+str(titlelist[i])+\"\\\"\\t\"+str(grouplist[i]), file = output_file2)\n",
    "        #print(str(asinlist[i])+\"\\t\"+str(titlelist[i])+\"\\t\"+str(grouplist[i]), file = output_file2)\n",
    "        print(str(asinlist[i])+\",\\\"\"+str(titlelist[i])+\"\\\",\"+str(grouplist[i]), file = output_file3)\n"
   ]
  }
 ],
 "metadata": {
  "kernelspec": {
   "display_name": "Python 3",
   "language": "python",
   "name": "python3"
  },
  "language_info": {
   "codemirror_mode": {
    "name": "ipython",
    "version": 3
   },
   "file_extension": ".py",
   "mimetype": "text/x-python",
   "name": "python",
   "nbconvert_exporter": "python",
   "pygments_lexer": "ipython3",
   "version": "3.7.0"
  }
 },
 "nbformat": 4,
 "nbformat_minor": 2
}
